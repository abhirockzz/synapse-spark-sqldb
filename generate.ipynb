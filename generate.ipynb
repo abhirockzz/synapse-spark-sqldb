{
 "metadata": {
  "language_info": {
   "codemirror_mode": {
    "name": "ipython",
    "version": 3
   },
   "file_extension": ".py",
   "mimetype": "text/x-python",
   "name": "python",
   "nbconvert_exporter": "python",
   "pygments_lexer": "ipython3",
   "version": "3.8.0"
  },
  "orig_nbformat": 4,
  "kernelspec": {
   "name": "python3",
   "display_name": "Python 3.8.0 64-bit"
  },
  "interpreter": {
   "hash": "aee8b7b246df8f9039afb4144a1f6fd8d2ca17a180786b69acc140d282b71a49"
  }
 },
 "nbformat": 4,
 "nbformat_minor": 2,
 "cells": [
  {
   "source": [
    "import math\n",
    "import numpy as np\n",
    "import pandas as pd\n",
    "from pathlib import Path\n",
    "import plotly.express as px\n",
    "from itertools import islice\n",
    "from numpy.random import normal\n",
    "import plotly.graph_objects as go\n",
    "from typing import List, Generator\n",
    "from datetime import datetime, timedelta"
   ],
   "cell_type": "code",
   "metadata": {},
   "execution_count": 1,
   "outputs": []
  },
  {
   "cell_type": "code",
   "execution_count": 2,
   "metadata": {},
   "outputs": [],
   "source": [
    "def gen_gbm(period: float, start_amount: float, drift: float, volatility: float) -> Generator[float, None, None]:\n",
    "    current_amt = start_amount\n",
    "    i = 1\n",
    "    while(True):\n",
    "        c = (current_amt * drift * period) + \\\n",
    "            (current_amt * volatility * np.random.normal(0, math.sqrt(period))) + \\\n",
    "            math.cos(2 * math.pi * i * period) + .5\n",
    "        yield current_amt + c\n",
    "        current_amt += c\n",
    "        i += 1\n"
   ]
  },
  {
   "cell_type": "code",
   "execution_count": 3,
   "metadata": {},
   "outputs": [],
   "source": [
    "def generate_df(total: int, start_amts: List[float], drift: float, volatility: float, \n",
    "                end_date: datetime=datetime.now(), output_dir=None):\n",
    "     # current items\n",
    "    current_date = end_date - timedelta(days=total)\n",
    "    \n",
    "    # generators\n",
    "    gen = [gen_gbm(period=1/365., \n",
    "                   start_amount=start_amts[i], \n",
    "                   drift=drift, \n",
    "                   volatility=volatility)\n",
    "                        for i in range(len(start_amts))]\n",
    "\n",
    "    # empty dataframe\n",
    "    cols = ['date', 'resource_id', 'earnings']\n",
    "    df = pd.DataFrame(columns=cols)\n",
    "\n",
    "    for i in range(total):\n",
    "        # generate for each\n",
    "        r = [(current_date.strftime('%Y-%m-%d'), j+1, next(gen[j])) \n",
    "                    for j in range(len(gen))]\n",
    "\n",
    "        # add rows\n",
    "        df = df.append(pd.DataFrame(r, columns=cols))\n",
    "\n",
    "        # increment vals\n",
    "        current_date = current_date + timedelta(days=1)\n",
    "\n",
    "    # save file if requested\n",
    "    if output_dir != None:\n",
    "        output_dir = Path(output_dir).resolve()\n",
    "        if not output_dir.exists():\n",
    "            os.makedirs(str(output_dir))\n",
    "        curds = datetime.now().strftime(\"%m.%d.%H.%M.%S\")\n",
    "        startds = (end_date - timedelta(days=total)).strftime(\"%y.%m.%d\")\n",
    "        file_path = f'D{startds}G{curds}.csv'\n",
    "        df.to_csv(output_dir / file_path)\n",
    "        #file_path = f'D{startds}G{curds}.parquet'\n",
    "        #df.to_parquet(output_dir / file_path)\n",
    "\n",
    "    return df"
   ]
  },
  {
   "cell_type": "code",
   "execution_count": 5,
   "metadata": {},
   "outputs": [],
   "source": [
    "years = 10\n",
    "args = {\n",
    "    'total': 365 * years,\n",
    "    'start_amts': [200000., 143320, 83420, 50000, 40000],\n",
    "    'drift': .01,\n",
    "    'volatility': .4,\n",
    "    'end_date': datetime.now(),\n",
    "    'output_dir': './data'\n",
    "}\n",
    "data = generate_df(**args)"
   ]
  },
  {
   "cell_type": "code",
   "execution_count": 9,
   "metadata": {},
   "outputs": [
    {
     "output_type": "execute_result",
     "data": {
      "text/plain": [
       "                 earnings\n",
       "date                     \n",
       "2011-07-04  511716.153598\n",
       "2011-07-05  510619.454825\n",
       "2011-07-06  514834.328123\n",
       "2011-07-07  523359.300008\n",
       "2011-07-08  525409.094955\n",
       "...                   ...\n",
       "2021-06-26  455278.196024\n",
       "2021-06-27  446486.606696\n",
       "2021-06-28  442601.457121\n",
       "2021-06-29  438870.560785\n",
       "2021-06-30  434793.148388\n",
       "\n",
       "[3650 rows x 1 columns]"
      ],
      "text/html": "<div>\n<style scoped>\n    .dataframe tbody tr th:only-of-type {\n        vertical-align: middle;\n    }\n\n    .dataframe tbody tr th {\n        vertical-align: top;\n    }\n\n    .dataframe thead th {\n        text-align: right;\n    }\n</style>\n<table border=\"1\" class=\"dataframe\">\n  <thead>\n    <tr style=\"text-align: right;\">\n      <th></th>\n      <th>earnings</th>\n    </tr>\n    <tr>\n      <th>date</th>\n      <th></th>\n    </tr>\n  </thead>\n  <tbody>\n    <tr>\n      <th>2011-07-04</th>\n      <td>511716.153598</td>\n    </tr>\n    <tr>\n      <th>2011-07-05</th>\n      <td>510619.454825</td>\n    </tr>\n    <tr>\n      <th>2011-07-06</th>\n      <td>514834.328123</td>\n    </tr>\n    <tr>\n      <th>2011-07-07</th>\n      <td>523359.300008</td>\n    </tr>\n    <tr>\n      <th>2011-07-08</th>\n      <td>525409.094955</td>\n    </tr>\n    <tr>\n      <th>...</th>\n      <td>...</td>\n    </tr>\n    <tr>\n      <th>2021-06-26</th>\n      <td>455278.196024</td>\n    </tr>\n    <tr>\n      <th>2021-06-27</th>\n      <td>446486.606696</td>\n    </tr>\n    <tr>\n      <th>2021-06-28</th>\n      <td>442601.457121</td>\n    </tr>\n    <tr>\n      <th>2021-06-29</th>\n      <td>438870.560785</td>\n    </tr>\n    <tr>\n      <th>2021-06-30</th>\n      <td>434793.148388</td>\n    </tr>\n  </tbody>\n</table>\n<p>3650 rows × 1 columns</p>\n</div>"
     },
     "metadata": {},
     "execution_count": 9
    }
   ],
   "source": [
    "agg_data = data.groupby(by=['date']).sum()\n",
    "agg_data.sort_values(by=['date'])"
   ]
  },
  {
   "cell_type": "code",
   "execution_count": 10,
   "metadata": {},
   "outputs": [
    {
     "output_type": "execute_result",
     "data": {
      "text/plain": [
       "          date       earnings\n",
       "0   2011-07-04  198929.120667\n",
       "0   2011-07-05  197192.239731\n",
       "0   2011-07-06  201978.345748\n",
       "0   2011-07-07  207230.230144\n",
       "0   2011-07-08  208506.400189\n",
       "..         ...            ...\n",
       "0   2021-06-26  325592.202968\n",
       "0   2021-06-27  318715.866197\n",
       "0   2021-06-28  316066.313342\n",
       "0   2021-06-29  310637.254478\n",
       "0   2021-06-30  306829.167460\n",
       "\n",
       "[3650 rows x 2 columns]"
      ],
      "text/html": "<div>\n<style scoped>\n    .dataframe tbody tr th:only-of-type {\n        vertical-align: middle;\n    }\n\n    .dataframe tbody tr th {\n        vertical-align: top;\n    }\n\n    .dataframe thead th {\n        text-align: right;\n    }\n</style>\n<table border=\"1\" class=\"dataframe\">\n  <thead>\n    <tr style=\"text-align: right;\">\n      <th></th>\n      <th>date</th>\n      <th>earnings</th>\n    </tr>\n  </thead>\n  <tbody>\n    <tr>\n      <th>0</th>\n      <td>2011-07-04</td>\n      <td>198929.120667</td>\n    </tr>\n    <tr>\n      <th>0</th>\n      <td>2011-07-05</td>\n      <td>197192.239731</td>\n    </tr>\n    <tr>\n      <th>0</th>\n      <td>2011-07-06</td>\n      <td>201978.345748</td>\n    </tr>\n    <tr>\n      <th>0</th>\n      <td>2011-07-07</td>\n      <td>207230.230144</td>\n    </tr>\n    <tr>\n      <th>0</th>\n      <td>2011-07-08</td>\n      <td>208506.400189</td>\n    </tr>\n    <tr>\n      <th>...</th>\n      <td>...</td>\n      <td>...</td>\n    </tr>\n    <tr>\n      <th>0</th>\n      <td>2021-06-26</td>\n      <td>325592.202968</td>\n    </tr>\n    <tr>\n      <th>0</th>\n      <td>2021-06-27</td>\n      <td>318715.866197</td>\n    </tr>\n    <tr>\n      <th>0</th>\n      <td>2021-06-28</td>\n      <td>316066.313342</td>\n    </tr>\n    <tr>\n      <th>0</th>\n      <td>2021-06-29</td>\n      <td>310637.254478</td>\n    </tr>\n    <tr>\n      <th>0</th>\n      <td>2021-06-30</td>\n      <td>306829.167460</td>\n    </tr>\n  </tbody>\n</table>\n<p>3650 rows × 2 columns</p>\n</div>"
     },
     "metadata": {},
     "execution_count": 10
    }
   ],
   "source": [
    "data.loc[data['resource_id'] == 1].drop(columns=['resource_id'])\n"
   ]
  }
 ]
}