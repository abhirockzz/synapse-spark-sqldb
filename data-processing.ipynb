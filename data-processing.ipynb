{
  "cells": [
    {
      "cell_type": "code",
      "source": [
        "from pyspark.sql.types import StructType,StructField, StringType, IntegerType, DateType, DoubleType\n",
        "\n",
        "schema = StructType([ \\\n",
        "    StructField(\"num\",IntegerType(),False), \\\n",
        "    StructField(\"date\",DateType(),False), \\\n",
        "    StructField(\"resource_id\",IntegerType(),False), \\\n",
        "    StructField(\"earnings\", DoubleType(), False)\n",
        "  ])"
      ],
      "outputs": [],
      "execution_count": null,
      "metadata": {}
    },
    {
      "cell_type": "code",
      "source": [
        "data = (spark\n",
        "                .read\n",
        "                .csv(\"/data/D11.07.04G07.01.10.58.01.csv\", header=True, schema=schema)\n",
        "              )\n",
        "\n",
        "data.printSchema()\n",
        "data.show(5)"
      ],
      "outputs": [],
      "execution_count": null,
      "metadata": {
        "jupyter": {
          "source_hidden": false,
          "outputs_hidden": false
        },
        "nteract": {
          "transient": {
            "deleting": false
          }
        },
        "collapsed": true
      }
    },
    {
      "cell_type": "code",
      "source": [
        "earnings = data.groupBy(\"date\").sum(\"earnings\") \\\n",
        "                .withColumnRenamed(\"sum(earnings)\", \"total_earnings\") \\\n",
        "                .withColumnRenamed(\"date\", \"earnings_date\") \\\n",
        "                .orderBy(data.date.desc())\n",
        "\n",
        "print(earnings.count())\n",
        "earnings.show(5)"
      ],
      "outputs": [],
      "execution_count": null,
      "metadata": {
        "jupyter": {
          "source_hidden": false,
          "outputs_hidden": false
        },
        "nteract": {
          "transient": {
            "deleting": false
          }
        },
        "collapsed": true
      }
    },
    {
      "cell_type": "code",
      "source": [
        "dbtable = \"Earnings\"\n",
        "\n",
        "#uses synapse MSI based auth\n",
        "url = TokenLibrary.getSecret(\"kehsihbaazkeyvault1\", \"azsqldb-connection-string\", \"azkv\")\n",
        "\n",
        "try:\n",
        "  earnings.write \\\n",
        "    .format(\"com.microsoft.sqlserver.jdbc.spark\") \\\n",
        "    .mode(\"append\") \\\n",
        "    .option(\"url\", url) \\\n",
        "    .option(\"dbtable\", dbtable) \\\n",
        "    .save()\n",
        "except ValueError as error :\n",
        "    print(\"Connector write failed\", error)"
      ],
      "outputs": [],
      "execution_count": null,
      "metadata": {
        "jupyter": {
          "source_hidden": false,
          "outputs_hidden": false
        },
        "nteract": {
          "transient": {
            "deleting": false
          }
        },
        "collapsed": true
      }
    },
    {
      "cell_type": "code",
      "source": [
        "dbtable = \"Earnings\"\n",
        "\n",
        "#uses synapse MSI based auth\n",
        "url = TokenLibrary.getSecret(\"kehsihbaazkeyvault1\", \"azsqldb-connection-string\", \"azkv\")\n",
        "\n",
        "data = spark.read \\\n",
        "    .format(\"com.microsoft.sqlserver.jdbc.spark\") \\\n",
        "    .option(\"url\", url) \\\n",
        "    .option(\"dbtable\", dbtable) \\\n",
        "    .load()\n",
        "\n",
        "print(data.count())\n",
        "data.show()"
      ],
      "outputs": [],
      "execution_count": null,
      "metadata": {
        "jupyter": {
          "source_hidden": false,
          "outputs_hidden": false
        },
        "nteract": {
          "transient": {
            "deleting": false
          }
        },
        "collapsed": true
      }
    }
  ],
  "metadata": {
    "kernelspec": {
      "name": "synapse_pyspark",
      "language": "Python",
      "display_name": "Synapse PySpark"
    },
    "language_info": {
      "name": "python"
    },
    "kernel_info": {
      "name": "synapse_pyspark"
    },
    "save_output": true,
    "synapse_widget": {
      "version": "0.1",
      "state": {}
    }
  },
  "nbformat": 4,
  "nbformat_minor": 2
}